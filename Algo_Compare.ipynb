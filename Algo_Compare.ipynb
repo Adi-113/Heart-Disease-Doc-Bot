{
 "cells": [
  {
   "cell_type": "code",
   "execution_count": 3,
   "metadata": {},
   "outputs": [],
   "source": [
    "import pandas as pd\n",
    "from sklearn.model_selection import train_test_split\n",
    "from sklearn import metrics\n",
    "\n",
    "data = pd.read_csv(\"Project\\heart.csv\")\n",
    "train = data.drop('target', axis = 1)\n",
    "target = data.target\n",
    "\n",
    "X_train, X_test, y_train, y_test = train_test_split( train, target, test_size = 0.3, random_state = 109 )"
   ]
  },
  {
   "cell_type": "code",
   "execution_count": 4,
   "metadata": {},
   "outputs": [
    {
     "name": "stdout",
     "output_type": "stream",
     "text": [
      "Accuracy for training set for SVM = 0.8349056603773585\n",
      "Accuracy for test set for SVM = 0.9010989010989011\n",
      "Precision: 0.9038461538461539\n",
      "Recall: 0.9215686274509803\n"
     ]
    }
   ],
   "source": [
    "# SVM Algorithm\n",
    "from sklearn import svm\n",
    "clf = svm.SVC( kernel = 'linear' )\n",
    "clf.fit(X_train, y_train)\n",
    "y_pred = clf.predict(X_test)\n",
    "cm_test = metrics.confusion_matrix(y_pred, y_test)\n",
    "y_pred_train = clf.predict(X_train)\n",
    "cm_train = metrics.confusion_matrix(y_pred_train, y_train)\n",
    "\n",
    "print('Accuracy for training set for SVM = {}'.format((cm_train[0][0] + cm_train[1][1])/len(y_train)))\n",
    "print('Accuracy for test set for SVM = {}'.format((cm_test[0][0] + cm_test[1][1])/len(y_test)))\n",
    "print( \"Precision:\", metrics.precision_score(y_test, y_pred) )\n",
    "print( \"Recall:\", metrics.recall_score(y_test, y_pred) )"
   ]
  },
  {
   "cell_type": "code",
   "execution_count": 5,
   "metadata": {},
   "outputs": [
    {
     "name": "stdout",
     "output_type": "stream",
     "text": [
      "Accuracy for training set for Naive Bayes = 0.8207547169811321\n",
      "Accuracy for test set for Naive Bayes = 0.8571428571428571\n",
      "Precision: 0.88\n",
      "Recall: 0.8627450980392157\n"
     ]
    }
   ],
   "source": [
    "# Naive Bayes Algorithm\n",
    "from sklearn.naive_bayes import GaussianNB\n",
    "classifier = GaussianNB()\n",
    "classifier.fit(X_train, y_train)\n",
    "y_pred = classifier.predict(X_test)\n",
    "cm_test = metrics.confusion_matrix(y_pred, y_test)\n",
    "y_pred_train = classifier.predict(X_train)\n",
    "cm_train = metrics.confusion_matrix(y_pred_train, y_train)\n",
    "\n",
    "print('Accuracy for training set for Naive Bayes = {}'.format((cm_train[0][0] + cm_train[1][1])/len(y_train)))\n",
    "print('Accuracy for test set for Naive Bayes = {}'.format((cm_test[0][0] + cm_test[1][1])/len(y_test)))\n",
    "print( \"Precision:\", metrics.precision_score(y_test, y_pred) )\n",
    "print( \"Recall:\", metrics.recall_score(y_test, y_pred) )"
   ]
  },
  {
   "cell_type": "code",
   "execution_count": 6,
   "metadata": {},
   "outputs": [
    {
     "name": "stdout",
     "output_type": "stream",
     "text": [
      "Accuracy for training set for kNN = 0.7547169811320755\n",
      "Accuracy for test set for kNN = 0.6703296703296703\n",
      "Precision: 0.7142857142857143\n",
      "Recall: 0.6862745098039216\n"
     ]
    }
   ],
   "source": [
    "# kNN Algorithm\n",
    "from sklearn.neighbors import KNeighborsClassifier\n",
    "classifier = KNeighborsClassifier()\n",
    "classifier.fit(X_train, y_train)\n",
    "y_pred = classifier.predict(X_test)\n",
    "cm_test = metrics.confusion_matrix(y_pred, y_test)\n",
    "y_pred_train = classifier.predict(X_train)\n",
    "cm_train = metrics.confusion_matrix(y_pred_train, y_train)\n",
    "\n",
    "print('Accuracy for training set for kNN = {}'.format((cm_train[0][0] + cm_train[1][1])/len(y_train)))\n",
    "print('Accuracy for test set for kNN = {}'.format((cm_test[0][0] + cm_test[1][1])/len(y_test)))\n",
    "print( \"Precision:\", metrics.precision_score(y_test, y_pred) )\n",
    "print( \"Recall:\", metrics.recall_score(y_test, y_pred) )"
   ]
  },
  {
   "cell_type": "code",
   "execution_count": 7,
   "metadata": {},
   "outputs": [
    {
     "name": "stdout",
     "output_type": "stream",
     "text": [
      "Accuracy for training set for Decision Tree = 1.0\n",
      "Accuracy for test set for Decision Tree = 0.7802197802197802\n",
      "Precision: 0.8297872340425532\n",
      "Recall: 0.7647058823529411\n"
     ]
    }
   ],
   "source": [
    "# Decision Tree Algorithm\n",
    "from sklearn.tree import DecisionTreeClassifier\n",
    "classifier = DecisionTreeClassifier()\n",
    "classifier.fit(X_train, y_train)\n",
    "y_pred = classifier.predict(X_test)\n",
    "cm_test = metrics.confusion_matrix(y_pred, y_test)\n",
    "y_pred_train = classifier.predict(X_train)\n",
    "cm_train = metrics.confusion_matrix(y_pred_train, y_train)\n",
    "\n",
    "print('Accuracy for training set for Decision Tree = {}'.format((cm_train[0][0] + cm_train[1][1])/len(y_train)))\n",
    "print('Accuracy for test set for Decision Tree = {}'.format((cm_test[0][0] + cm_test[1][1])/len(y_test)))\n",
    "print( \"Precision:\", metrics.precision_score(y_test, y_pred) )\n",
    "print( \"Recall:\", metrics.recall_score(y_test, y_pred) )"
   ]
  },
  {
   "cell_type": "code",
   "execution_count": null,
   "metadata": {},
   "outputs": [],
   "source": []
  }
 ],
 "metadata": {
  "kernelspec": {
   "display_name": "Python 3",
   "language": "python",
   "name": "python3"
  },
  "language_info": {
   "codemirror_mode": {
    "name": "ipython",
    "version": 3
   },
   "file_extension": ".py",
   "mimetype": "text/x-python",
   "name": "python",
   "nbconvert_exporter": "python",
   "pygments_lexer": "ipython3",
   "version": "3.10.9 (tags/v3.10.9:1dd9be6, Dec  6 2022, 20:01:21) [MSC v.1934 64 bit (AMD64)]"
  },
  "vscode": {
   "interpreter": {
    "hash": "26de051ba29f2982a8de78e945f0abaf191376122a1563185a90213a26c5da77"
   }
  }
 },
 "nbformat": 4,
 "nbformat_minor": 4
}
